{
 "cells": [
  {
   "cell_type": "code",
   "execution_count": 1,
   "id": "7d34f957",
   "metadata": {
    "execution": {
     "iopub.execute_input": "2023-06-28T06:00:08.169303Z",
     "iopub.status.busy": "2023-06-28T06:00:08.168937Z",
     "iopub.status.idle": "2023-06-28T06:00:09.727431Z",
     "shell.execute_reply": "2023-06-28T06:00:09.725510Z",
     "shell.execute_reply.started": "2023-06-28T06:00:08.169273Z"
    },
    "tags": []
   },
   "outputs": [],
   "source": [
    "# 필요한 라이브러리를 불러옵니다.\n",
    "import numpy as np"
   ]
  },
  {
   "cell_type": "markdown",
   "id": "e35027db",
   "metadata": {},
   "source": [
    "### 1. 값이 10~49인 numpy array를 만드세요"
   ]
  },
  {
   "cell_type": "code",
   "execution_count": 8,
   "id": "186a443c",
   "metadata": {
    "execution": {
     "iopub.execute_input": "2023-06-28T06:06:42.476099Z",
     "iopub.status.busy": "2023-06-28T06:06:42.475743Z",
     "iopub.status.idle": "2023-06-28T06:06:42.482561Z",
     "shell.execute_reply": "2023-06-28T06:06:42.481766Z",
     "shell.execute_reply.started": "2023-06-28T06:06:42.476069Z"
    },
    "tags": []
   },
   "outputs": [
    {
     "name": "stdout",
     "output_type": "stream",
     "text": [
      "[10 11 12 13 14 15 16 17 18 19 20 21 22 23 24 25 26 27 28 29 30 31 32 33\n",
      " 34 35 36 37 38 39 40 41 42 43 44 45 46 47 48 49]\n"
     ]
    }
   ],
   "source": [
    "z = np.arange(10, 50, 1)\n",
    "print(z)"
   ]
  },
  {
   "cell_type": "markdown",
   "id": "7fe92102",
   "metadata": {},
   "source": [
    "### 2. z를 반전하세요."
   ]
  },
  {
   "cell_type": "code",
   "execution_count": 15,
   "id": "f78638fa",
   "metadata": {
    "execution": {
     "iopub.execute_input": "2023-06-28T06:08:21.989609Z",
     "iopub.status.busy": "2023-06-28T06:08:21.989180Z",
     "iopub.status.idle": "2023-06-28T06:08:21.995452Z",
     "shell.execute_reply": "2023-06-28T06:08:21.994154Z",
     "shell.execute_reply.started": "2023-06-28T06:08:21.989566Z"
    },
    "tags": []
   },
   "outputs": [
    {
     "name": "stdout",
     "output_type": "stream",
     "text": [
      "[49 48 47 46 45 44 43 42 41 40 39 38 37 36 35 34 33 32 31 30 29 28 27 26\n",
      " 25 24 23 22 21 20 19 18 17 16 15 14 13 12 11 10]\n"
     ]
    }
   ],
   "source": [
    "z = np.flip(z)\n",
    "print(z)"
   ]
  },
  {
   "cell_type": "markdown",
   "id": "a04b347c",
   "metadata": {},
   "source": [
    "### 3. 반전시킨 z 매트릭스를 10 x 4 매트릭스로 바꾸세요."
   ]
  },
  {
   "cell_type": "code",
   "execution_count": 16,
   "id": "fcf79ba9",
   "metadata": {
    "execution": {
     "iopub.execute_input": "2023-06-28T06:08:35.622443Z",
     "iopub.status.busy": "2023-06-28T06:08:35.622134Z",
     "iopub.status.idle": "2023-06-28T06:08:35.628344Z",
     "shell.execute_reply": "2023-06-28T06:08:35.627372Z",
     "shell.execute_reply.started": "2023-06-28T06:08:35.622422Z"
    },
    "tags": []
   },
   "outputs": [
    {
     "name": "stdout",
     "output_type": "stream",
     "text": [
      "[[49 48 47 46]\n",
      " [45 44 43 42]\n",
      " [41 40 39 38]\n",
      " [37 36 35 34]\n",
      " [33 32 31 30]\n",
      " [29 28 27 26]\n",
      " [25 24 23 22]\n",
      " [21 20 19 18]\n",
      " [17 16 15 14]\n",
      " [13 12 11 10]]\n"
     ]
    }
   ],
   "source": [
    "z = z.reshape(10, -1)\n",
    "print(z)"
   ]
  },
  {
   "cell_type": "markdown",
   "id": "a8fb1466",
   "metadata": {},
   "source": [
    "### 4. x에서 0이 아닌 요소의 색인을 찾아보세요."
   ]
  },
  {
   "cell_type": "code",
   "execution_count": 29,
   "id": "0b0944c7",
   "metadata": {
    "execution": {
     "iopub.execute_input": "2023-06-28T06:20:41.210165Z",
     "iopub.status.busy": "2023-06-28T06:20:41.209874Z",
     "iopub.status.idle": "2023-06-28T06:20:41.216046Z",
     "shell.execute_reply": "2023-06-28T06:20:41.214790Z",
     "shell.execute_reply.started": "2023-06-28T06:20:41.210140Z"
    },
    "tags": []
   },
   "outputs": [
    {
     "name": "stdout",
     "output_type": "stream",
     "text": [
      "[0 1 2 4 6]\n"
     ]
    }
   ],
   "source": [
    "x = np.array([5,6,8,0,1,0,7])\n",
    "nz_idx = np.where(x != 0)[0]\n",
    "print(nz_idx)"
   ]
  },
  {
   "cell_type": "markdown",
   "id": "fb98a12e",
   "metadata": {},
   "source": [
    "### nan 값 이해하기\n",
    "\n"
   ]
  },
  {
   "cell_type": "code",
   "execution_count": 33,
   "id": "7d12b519",
   "metadata": {
    "execution": {
     "iopub.execute_input": "2023-06-28T06:22:58.250212Z",
     "iopub.status.busy": "2023-06-28T06:22:58.249904Z",
     "iopub.status.idle": "2023-06-28T06:22:58.254903Z",
     "shell.execute_reply": "2023-06-28T06:22:58.254334Z",
     "shell.execute_reply.started": "2023-06-28T06:22:58.250187Z"
    },
    "tags": []
   },
   "outputs": [
    {
     "name": "stdout",
     "output_type": "stream",
     "text": [
      "False\n",
      "True\n",
      "False\n",
      "True\n"
     ]
    }
   ],
   "source": [
    "print(np.nan == np.nan)\n",
    "print(np.isnan(np.nan))\n",
    "\n",
    "import math\n",
    "print(0.3 == 3 * 0.1)\n",
    "print(math.isclose(0.1 + 0.2, 0.3))"
   ]
  },
  {
   "cell_type": "markdown",
   "id": "87f765ae",
   "metadata": {},
   "source": [
    "### 5. 12 x 12 매트릭스를 만들어 바둑판 패턴으로 0과 1을 채우세요"
   ]
  },
  {
   "cell_type": "code",
   "execution_count": 77,
   "id": "28bd1edc-9de5-45f6-8d43-2a9b7160d650",
   "metadata": {
    "execution": {
     "iopub.execute_input": "2023-06-28T07:20:31.579859Z",
     "iopub.status.busy": "2023-06-28T07:20:31.579321Z",
     "iopub.status.idle": "2023-06-28T07:20:31.592184Z",
     "shell.execute_reply": "2023-06-28T07:20:31.589129Z",
     "shell.execute_reply.started": "2023-06-28T07:20:31.579809Z"
    },
    "tags": []
   },
   "outputs": [
    {
     "name": "stdout",
     "output_type": "stream",
     "text": [
      "[[0. 0. 0. 0. 0. 0. 0. 0. 0. 0. 0. 0.]\n",
      " [0. 0. 0. 0. 0. 0. 0. 0. 0. 0. 0. 0.]\n",
      " [0. 0. 0. 0. 0. 0. 0. 0. 0. 0. 0. 0.]\n",
      " [0. 0. 0. 0. 0. 0. 0. 0. 0. 0. 0. 0.]\n",
      " [0. 0. 0. 0. 0. 0. 0. 0. 0. 0. 0. 0.]\n",
      " [0. 0. 0. 0. 0. 0. 0. 0. 0. 0. 0. 0.]\n",
      " [0. 0. 0. 0. 0. 0. 0. 0. 0. 0. 0. 0.]\n",
      " [0. 0. 0. 0. 0. 0. 0. 0. 0. 0. 0. 0.]\n",
      " [0. 0. 0. 0. 0. 0. 0. 0. 0. 0. 0. 0.]\n",
      " [0. 0. 0. 0. 0. 0. 0. 0. 0. 0. 0. 0.]\n",
      " [0. 0. 0. 0. 0. 0. 0. 0. 0. 0. 0. 0.]\n",
      " [0. 0. 0. 0. 0. 0. 0. 0. 0. 0. 0. 0.]]\n",
      "\n",
      "[[0. 1. 0. 1. 0. 1. 0. 1. 0. 1. 0. 1.]\n",
      " [1. 0. 1. 0. 1. 0. 1. 0. 1. 0. 1. 0.]\n",
      " [0. 1. 0. 1. 0. 1. 0. 1. 0. 1. 0. 1.]\n",
      " [1. 0. 1. 0. 1. 0. 1. 0. 1. 0. 1. 0.]\n",
      " [0. 1. 0. 1. 0. 1. 0. 1. 0. 1. 0. 1.]\n",
      " [1. 0. 1. 0. 1. 0. 1. 0. 1. 0. 1. 0.]\n",
      " [0. 1. 0. 1. 0. 1. 0. 1. 0. 1. 0. 1.]\n",
      " [1. 0. 1. 0. 1. 0. 1. 0. 1. 0. 1. 0.]\n",
      " [0. 1. 0. 1. 0. 1. 0. 1. 0. 1. 0. 1.]\n",
      " [1. 0. 1. 0. 1. 0. 1. 0. 1. 0. 1. 0.]\n",
      " [0. 1. 0. 1. 0. 1. 0. 1. 0. 1. 0. 1.]\n",
      " [1. 0. 1. 0. 1. 0. 1. 0. 1. 0. 1. 0.]]\n"
     ]
    }
   ],
   "source": [
    "x = np.zeros((12, 12))\n",
    "print(x, end='\\n\\n')\n",
    "###############\n",
    "# 슬라이싱을 사용하세요\n",
    "for idx in range(12):\n",
    "    x[idx] = [(1 if idx2 % 2 != idx % 2 else _) for idx2, _ in enumerate(x[idx])]\n",
    "###############\n",
    "print(x)"
   ]
  },
  {
   "cell_type": "markdown",
   "id": "8765875e",
   "metadata": {},
   "source": [
    "### 6. np.tile 을 이용해서 동일한 바둑판 배턴을 만들어보세요"
   ]
  },
  {
   "cell_type": "code",
   "execution_count": 55,
   "id": "fe6834dd",
   "metadata": {
    "execution": {
     "iopub.execute_input": "2023-06-28T06:53:28.002794Z",
     "iopub.status.busy": "2023-06-28T06:53:28.002520Z",
     "iopub.status.idle": "2023-06-28T06:53:28.007993Z",
     "shell.execute_reply": "2023-06-28T06:53:28.007064Z",
     "shell.execute_reply.started": "2023-06-28T06:53:28.002768Z"
    },
    "tags": []
   },
   "outputs": [
    {
     "name": "stdout",
     "output_type": "stream",
     "text": [
      "[[0 1 0 1 0 1 0 1 0 1 0 1]\n",
      " [1 0 1 0 1 0 1 0 1 0 1 0]\n",
      " [0 1 0 1 0 1 0 1 0 1 0 1]\n",
      " [1 0 1 0 1 0 1 0 1 0 1 0]\n",
      " [0 1 0 1 0 1 0 1 0 1 0 1]\n",
      " [1 0 1 0 1 0 1 0 1 0 1 0]\n",
      " [0 1 0 1 0 1 0 1 0 1 0 1]\n",
      " [1 0 1 0 1 0 1 0 1 0 1 0]\n",
      " [0 1 0 1 0 1 0 1 0 1 0 1]\n",
      " [1 0 1 0 1 0 1 0 1 0 1 0]\n",
      " [0 1 0 1 0 1 0 1 0 1 0 1]\n",
      " [1 0 1 0 1 0 1 0 1 0 1 0]]\n"
     ]
    }
   ],
   "source": [
    "x = np.tile(np.array([[0,1],[1,0]]), (6,6))\n",
    "print(x)"
   ]
  },
  {
   "cell_type": "markdown",
   "id": "b1a5847c",
   "metadata": {},
   "source": [
    "### 7. 1차원 배열이 x에서 값이 5~10인 요소를 0으로 바꾸세요"
   ]
  },
  {
   "cell_type": "code",
   "execution_count": 108,
   "id": "bd215833",
   "metadata": {
    "execution": {
     "iopub.execute_input": "2023-06-28T08:23:42.230690Z",
     "iopub.status.busy": "2023-06-28T08:23:42.230364Z",
     "iopub.status.idle": "2023-06-28T08:23:42.236805Z",
     "shell.execute_reply": "2023-06-28T08:23:42.235536Z",
     "shell.execute_reply.started": "2023-06-28T08:23:42.230659Z"
    },
    "tags": []
   },
   "outputs": [
    {
     "name": "stdout",
     "output_type": "stream",
     "text": [
      "[ 2  5  3  8  3 34 23  7 10]\n",
      "[ 2  0  3  0  3 34 23  0  0]\n"
     ]
    }
   ],
   "source": [
    "x = np.array([2,5,3,8,3,34,23,7,10])\n",
    "print(x)\n",
    "##################\n",
    "# 필터링을 사용하세요.\n",
    "x = np.where((x >= 5) & (x <= 10), 0, x)\n",
    "##################\n",
    "print(x)"
   ]
  },
  {
   "cell_type": "markdown",
   "id": "d5bd1501",
   "metadata": {},
   "source": [
    "### 8. 0에서 100 사이의 값으로 크기가 10인 1차원 array를 만드세요"
   ]
  },
  {
   "cell_type": "code",
   "execution_count": 66,
   "id": "88e38f0e",
   "metadata": {
    "execution": {
     "iopub.execute_input": "2023-06-28T06:59:22.816342Z",
     "iopub.status.busy": "2023-06-28T06:59:22.815970Z",
     "iopub.status.idle": "2023-06-28T06:59:22.821532Z",
     "shell.execute_reply": "2023-06-28T06:59:22.820578Z",
     "shell.execute_reply.started": "2023-06-28T06:59:22.816291Z"
    },
    "tags": []
   },
   "outputs": [
    {
     "name": "stdout",
     "output_type": "stream",
     "text": [
      "[85 51 80 17 13 59 97 97 44 88]\n"
     ]
    }
   ],
   "source": [
    "x = np.random.choice(range(0, 101), 10)\n",
    "print(x)"
   ]
  },
  {
   "cell_type": "markdown",
   "id": "143e78e1",
   "metadata": {},
   "source": [
    "### 9. np.allclose() 함수를 사용하여 2개의 array가 같은지를 확인해보세요"
   ]
  },
  {
   "cell_type": "code",
   "execution_count": 67,
   "id": "56449e50",
   "metadata": {
    "execution": {
     "iopub.execute_input": "2023-06-28T07:05:49.783082Z",
     "iopub.status.busy": "2023-06-28T07:05:49.782750Z",
     "iopub.status.idle": "2023-06-28T07:05:49.791301Z",
     "shell.execute_reply": "2023-06-28T07:05:49.790351Z",
     "shell.execute_reply.started": "2023-06-28T07:05:49.783058Z"
    },
    "tags": []
   },
   "outputs": [
    {
     "name": "stdout",
     "output_type": "stream",
     "text": [
      "True\n"
     ]
    }
   ],
   "source": [
    "A = np.array([1e10,1e-8])\n",
    "B = np.array([1.00001e10,1e-9])\n",
    "\n",
    "equal = np.allclose(A, B)\n",
    "print(equal)"
   ]
  },
  {
   "cell_type": "markdown",
   "id": "26819557",
   "metadata": {},
   "source": [
    "### 10. 데카르트 좌표를 나타내는 랜덤 8 x 2 행렬을 고려하여 극좌표로 변환해보세요."
   ]
  },
  {
   "cell_type": "code",
   "execution_count": 97,
   "id": "4136e249",
   "metadata": {
    "execution": {
     "iopub.execute_input": "2023-06-28T08:16:37.504060Z",
     "iopub.status.busy": "2023-06-28T08:16:37.503791Z",
     "iopub.status.idle": "2023-06-28T08:16:37.509648Z",
     "shell.execute_reply": "2023-06-28T08:16:37.508969Z",
     "shell.execute_reply.started": "2023-06-28T08:16:37.504036Z"
    },
    "tags": []
   },
   "outputs": [
    {
     "name": "stdout",
     "output_type": "stream",
     "text": [
      "[[0.99473845 0.2763244 ]\n",
      " [0.56453704 0.10905319]\n",
      " [0.32592842 0.58228501]\n",
      " [0.51156065 0.95781791]\n",
      " [0.92683276 0.77186772]\n",
      " [0.17841512 0.87744698]\n",
      " [0.42927742 0.31565626]\n",
      " [0.66631123 0.35215088]\n",
      " [0.7316915  0.13711355]\n",
      " [0.75278075 0.11333776]]\n"
     ]
    }
   ],
   "source": [
    "coord = np.random.random((10,2))\n",
    "x, y = coord[:,0], coord[:,1]\n",
    "r = x\n",
    "theta = y\n",
    "ploar_coord = np.concatenate([r[:,np.newaxis], theta[:,np.newaxis]],axis=1)\n",
    "print(ploar_coord)"
   ]
  }
 ],
 "metadata": {
  "kernelspec": {
   "display_name": "Python 3 (ipykernel)",
   "language": "python",
   "name": "python3"
  },
  "language_info": {
   "codemirror_mode": {
    "name": "ipython",
    "version": 3
   },
   "file_extension": ".py",
   "mimetype": "text/x-python",
   "name": "python",
   "nbconvert_exporter": "python",
   "pygments_lexer": "ipython3",
   "version": "3.8.3"
  }
 },
 "nbformat": 4,
 "nbformat_minor": 5
}
